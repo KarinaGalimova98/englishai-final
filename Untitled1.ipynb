{
 "cells": [
  {
   "cell_type": "code",
   "execution_count": 1,
   "id": "302b256d-4772-43db-a611-bd6eb69873f5",
   "metadata": {},
   "outputs": [],
   "source": [
    "import pandas as pd\n",
    "from sentence_transformers import SentenceTransformer\n",
    "from sklearn.feature_extraction.text import TfidfVectorizer\n",
    "from sklearn.preprocessing import StandardScaler\n",
    "from sklearn.linear_model import LogisticRegression\n",
    "from sklearn.model_selection import train_test_split\n",
    "from sklearn.metrics import classification_report\n",
    "from scipy.sparse import hstack, csr_matrix"
   ]
  },
  {
   "cell_type": "code",
   "execution_count": 2,
   "id": "345390f5-86c9-40e8-bb22-5f3b2f3fdc6d",
   "metadata": {},
   "outputs": [],
   "source": [
    "# === Шаг 1. Загрузка данных ===\n",
    "texts_df = pd.read_csv(\"cefr_leveled_texts.csv\").rename(columns={\"label\": \"level\"}).dropna()\n",
    "grammar_df = pd.read_csv(\"grammar_features.csv\")"
   ]
  },
  {
   "cell_type": "code",
   "execution_count": 3,
   "id": "45c24c70-cad2-4463-b095-a587eb21b5b1",
   "metadata": {},
   "outputs": [],
   "source": [
    "# === Шаг 2. SBERT embeddings ===\n",
    "model_st = SentenceTransformer('paraphrase-MiniLM-L6-v2')\n",
    "X_sbert = model_st.encode(texts_df['text'].tolist(), show_progress_bar=False)"
   ]
  },
  {
   "cell_type": "code",
   "execution_count": 4,
   "id": "2d290595-cf55-4531-b17e-9098af85a2b3",
   "metadata": {},
   "outputs": [],
   "source": [
    "# === Шаг 3. TF-IDF ===\n",
    "vectorizer = TfidfVectorizer(max_features=3000, ngram_range=(1, 2), stop_words='english')\n",
    "X_tfidf = vectorizer.fit_transform(texts_df['text'])"
   ]
  },
  {
   "cell_type": "code",
   "execution_count": 5,
   "id": "312479b3-30d1-470e-a995-da5eba71a697",
   "metadata": {},
   "outputs": [],
   "source": [
    "# === Шаг 4. Grammar features ===\n",
    "X_grammar = grammar_df[['passive_count', 'modal_count', 'conditional_type_2', 'avg_sentence_len']]\n",
    "X_grammar_scaled = StandardScaler().fit_transform(X_grammar)"
   ]
  },
  {
   "cell_type": "code",
   "execution_count": 6,
   "id": "1c16f783-9c78-4339-bf31-2ba72ed5bc12",
   "metadata": {},
   "outputs": [],
   "source": [
    "# === Шаг 5. Объединение ===\n",
    "from scipy.sparse import hstack\n",
    "X_combined = hstack([\n",
    "    csr_matrix(X_sbert),         # преобразуем SBERT в sparse\n",
    "    X_tfidf,                     # TF-IDF уже sparse\n",
    "    csr_matrix(X_grammar_scaled) # грамматика — sparse\n",
    "])\n",
    "y = texts_df['level']"
   ]
  },
  {
   "cell_type": "code",
   "execution_count": 7,
   "id": "946c04ec-76ba-4330-9ce7-d21bb2bdb6ea",
   "metadata": {},
   "outputs": [],
   "source": [
    "# === Шаг 6. Обучение и оценка ===\n",
    "from sklearn.linear_model import LogisticRegression\n",
    "from sklearn.model_selection import train_test_split\n",
    "from sklearn.metrics import classification_report"
   ]
  },
  {
   "cell_type": "code",
   "execution_count": 8,
   "id": "c73f55b8-48c9-484c-82f9-34e317317cbc",
   "metadata": {},
   "outputs": [],
   "source": [
    "X_train, X_test, y_train, y_test = train_test_split(X_combined, y, test_size=0.2, stratify=y, random_state=42)\n",
    "\n",
    "model_combined = LogisticRegression(max_iter=1000)\n",
    "model_combined.fit(X_train, y_train)\n",
    "y_pred = model_combined.predict(X_test)"
   ]
  },
  {
   "cell_type": "code",
   "execution_count": 9,
   "id": "d3f00ee1-470e-4a73-975e-7ff9670d12fd",
   "metadata": {},
   "outputs": [
    {
     "name": "stdout",
     "output_type": "stream",
     "text": [
      "              precision    recall  f1-score   support\n",
      "\n",
      "          A1       0.75      0.86      0.80        58\n",
      "          A2       0.76      0.58      0.66        55\n",
      "          B1       0.45      0.37      0.41        41\n",
      "          B2       0.39      0.44      0.41        57\n",
      "          C1       0.44      0.50      0.47        48\n",
      "          C2       0.67      0.65      0.66        40\n",
      "\n",
      "    accuracy                           0.58       299\n",
      "   macro avg       0.58      0.57      0.57       299\n",
      "weighted avg       0.58      0.58      0.57       299\n",
      "\n"
     ]
    }
   ],
   "source": [
    "print(classification_report(y_test, y_pred))"
   ]
  },
  {
   "cell_type": "code",
   "execution_count": 10,
   "id": "9cc96a25-1f7b-4433-b586-fa928f57b6e0",
   "metadata": {},
   "outputs": [],
   "source": [
    "def extract_grammar_features(text):\n",
    "    import re\n",
    "    text = str(text).lower()\n",
    "    words = re.findall(r'\\b[a-z]+\\b', text)\n",
    "    total_words = len(words)\n",
    "    total_sentences = max(1, text.count('.'))\n",
    "\n",
    "    return [\n",
    "        len(re.findall(r'\\b(be|is|are|was|were|been|being)\\s+\\w+ed\\b', text)) / total_sentences,\n",
    "        len(re.findall(r'\\b(would|could|should|might|may|can|must|shall|will)\\b', text)) / total_words if total_words else 0,\n",
    "        len(re.findall(r'\\bif\\s+\\w+\\s+(had|was|were)\\b.*?\\bwould\\b', text)),\n",
    "        total_words / total_sentences\n",
    "    ]\n",
    "\n",
    "def predict_level_combined(text):\n",
    "    emb = model_st.encode([text])\n",
    "    tfidf_vec = vectorizer.transform([text])\n",
    "    grammar_vec = StandardScaler().fit(X_grammar).transform([extract_grammar_features(text)])\n",
    "    \n",
    "    full_vector = hstack([\n",
    "        csr_matrix(emb),\n",
    "        tfidf_vec,\n",
    "        csr_matrix(grammar_vec)\n",
    "    ])\n",
    "    \n",
    "    return model_combined.predict(full_vector)[0]\n"
   ]
  },
  {
   "cell_type": "code",
   "execution_count": 12,
   "id": "5500122e-525f-457b-9f9c-30af183718e1",
   "metadata": {},
   "outputs": [
    {
     "name": "stdin",
     "output_type": "stream",
     "text": [
      "Enter your text in English:  Hi there!My name is Karina. I'm fond of machine learning and find really exciting math! I have been learning math since 20 years old and now i'm totally proud of myself for being so confident in math's problems.\n"
     ]
    },
    {
     "name": "stdout",
     "output_type": "stream",
     "text": [
      "Predicted CEFR level: A2\n"
     ]
    },
    {
     "name": "stderr",
     "output_type": "stream",
     "text": [
      "C:\\Users\\Users\\anaconda3\\Lib\\site-packages\\sklearn\\base.py:493: UserWarning: X does not have valid feature names, but StandardScaler was fitted with feature names\n",
      "  warnings.warn(\n"
     ]
    }
   ],
   "source": [
    "# Ввод текста от пользователя\n",
    "user_input = input(\"Enter your text in English: \")\n",
    "\n",
    "# Предсказание уровня\n",
    "predicted = predict_level_combined(user_input)\n",
    "\n",
    "# Вывод результата\n",
    "print(\"Predicted CEFR level:\", predicted)"
   ]
  }
 ],
 "metadata": {
  "kernelspec": {
   "display_name": "Python 3 (ipykernel)",
   "language": "python",
   "name": "python3"
  },
  "language_info": {
   "codemirror_mode": {
    "name": "ipython",
    "version": 3
   },
   "file_extension": ".py",
   "mimetype": "text/x-python",
   "name": "python",
   "nbconvert_exporter": "python",
   "pygments_lexer": "ipython3",
   "version": "3.12.7"
  }
 },
 "nbformat": 4,
 "nbformat_minor": 5
}
